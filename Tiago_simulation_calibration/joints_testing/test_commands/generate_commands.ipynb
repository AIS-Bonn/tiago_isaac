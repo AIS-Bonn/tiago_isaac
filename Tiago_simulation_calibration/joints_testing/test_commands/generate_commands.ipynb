{
 "cells": [
  {
   "cell_type": "code",
   "execution_count": 1,
   "metadata": {},
   "outputs": [],
   "source": [
    "import os\n",
    "\n",
    "# Define min and max values for each joint\n",
    "joint_limits = {\n",
    "    'arm_left_1_joint': (-1.1780972450961724, 1.5707963267948966),\n",
    "    'arm_left_2_joint': (-1.1780972450961724, 0.75),#1.5707963267948966), #Artificial limit so it does not touch the floor\n",
    "    'arm_left_3_joint': (-0.7853981633974483, 3.9269908169872414),\n",
    "    'arm_left_4_joint': (-0.39269908169872414, 2.356194490192345),\n",
    "    'arm_left_5_joint': (-2.0943951023931953, 2.0943951023931953),\n",
    "    'arm_left_6_joint': (-1.413716694115407, 1.413716694115407),\n",
    "    'arm_left_7_joint': (-2.0943951023931953, 2.0943951023931953),\n",
    "    'arm_right_1_joint': (-1.1780972450961724, 1.5707963267948966),\n",
    "    'arm_right_2_joint': (-1.1780972450961724, 0.75),# 1.5707963267948966), #Artificial limit so it does not touch the floor\n",
    "    'arm_right_3_joint': (-0.7853981633974483, 3.9269908169872414),\n",
    "    'arm_right_4_joint': (-0.39269908169872414, 2.356194490192345),\n",
    "    'arm_right_5_joint': (-2.0943951023931953, 2.0943951023931953),\n",
    "    'arm_right_6_joint': (-1.413716694115407, 1.413716694115407),\n",
    "    'arm_right_7_joint': (-2.0943951023931953, 2.0943951023931953),\n",
    "    'gripper_left_left_finger_joint': (-0.02, 0.045),\n",
    "    'gripper_left_right_finger_joint': (-0.02, 0.045),\n",
    "    'gripper_right_left_finger_joint': (0.0, 0.045),\n",
    "    'gripper_right_right_finger_joint': (0.0, 0.045),\n",
    "    'head_1_joint': (-1.3089969389957472, 1.3089969389957472),\n",
    "    'head_2_joint': (-1.0471975511965976, 0.7853981633974483),\n",
    "    'torso_lift_joint': (0.0, 0.35)\n",
    "}"
   ]
  },
  {
   "cell_type": "code",
   "execution_count": 2,
   "metadata": {},
   "outputs": [
    {
     "name": "stdout",
     "output_type": "stream",
     "text": [
      "Trajectory command files generated successfully.\n"
     ]
    }
   ],
   "source": [
    "\n",
    "# Create directory for output files if it doesn't exist\n",
    "output_dir = 'simple_joint_commands'\n",
    "os.makedirs(output_dir, exist_ok=True)\n",
    "\n",
    "# Generate files for each joint\n",
    "for joint, (L, R) in joint_limits.items():\n",
    "    # Define the file path\n",
    "    file_path = os.path.join(output_dir, f\"{joint}.txt\")\n",
    "    \n",
    "    # Open file and write trajectory commands\n",
    "    with open(file_path, 'w') as file:\n",
    "        # Write L R secs and R L secs for each sec in secs\n",
    "        file.write(f\"{L} {R}\\n\")\n",
    "        file.write(f\"{R} {L}\\n\")\n",
    "\n",
    "print(\"Trajectory command files generated successfully.\")"
   ]
  }
 ],
 "metadata": {
  "kernelspec": {
   "display_name": "optim",
   "language": "python",
   "name": "python3"
  },
  "language_info": {
   "codemirror_mode": {
    "name": "ipython",
    "version": 3
   },
   "file_extension": ".py",
   "mimetype": "text/x-python",
   "name": "python",
   "nbconvert_exporter": "python",
   "pygments_lexer": "ipython3",
   "version": "3.11.9"
  }
 },
 "nbformat": 4,
 "nbformat_minor": 2
}
