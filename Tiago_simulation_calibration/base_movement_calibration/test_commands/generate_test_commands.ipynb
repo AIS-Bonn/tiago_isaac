{
 "cells": [
  {
   "cell_type": "markdown",
   "metadata": {},
   "source": [
    "This script generates different motion commands for different velocities.\n",
    "\n",
    "We test all the commands on both real and simulated robot, in order to calibrate the simulated robot accurately."
   ]
  },
  {
   "cell_type": "code",
   "execution_count": 8,
   "metadata": {},
   "outputs": [],
   "source": [
    "import numpy as np\n",
    "import math\n",
    "import os\n",
    "\n",
    "secs = 4\n",
    "\n",
    "folder = \"commands/\"\n",
    "os.makedirs(folder, exist_ok=True)\n",
    "\n",
    "with open(folder+\"x.txt\", \"w\") as file:\n",
    "    for i in np.arange(0.05, 1.05, 0.025):\n",
    "        file.write(f\"{i:g} 0 0 {secs}\\n\")\n",
    "\n",
    "with open(folder+\"y.txt\", \"w\") as file:\n",
    "    for i in np.arange (0.05, 0.65, 0.025):\n",
    "        file.write(f\"0 {i:g} 0 {secs}\\n\")\n",
    "\n",
    "with open(folder+\"z.txt\", \"w\") as file:\n",
    "    for i in np.arange (0.05, 1.5, 0.025):\n",
    "        file.write(f\"0 0 {i:g} {secs}\\n\")\n",
    "\n",
    "\n",
    "with open(folder+\"xy.txt\", \"w\") as file:\n",
    "    for i in np.arange (0.05, 0.65, 0.025):\n",
    "        file.write(f\"{i:g} {i:g} 0 {secs}\\n\")\n",
    "\n",
    "with open(folder+\"0.5xy.txt\", \"w\") as file:\n",
    "    for i in np.arange (0.05, 0.65, 0.025):\n",
    "        file.write(f\"{0.5*i:g} {i:g} 0 {secs}\\n\")\n",
    "\n",
    "with open(folder+\"x0.5y.txt\", \"w\") as file:\n",
    "    for i in np.arange (0.05, 0.65, 0.025):\n",
    "        file.write(f\"{i:g} {0.5*i:g} 0 {secs}\\n\")\n",
    "\n",
    "with open(folder+\"r_forward.txt\", \"w\") as file:\n",
    "    for r in np.arange(0.05, 0.45, 0.1):\n",
    "        for circlefrac in np.arange(0.1, 0.9, 0.2):\n",
    "            omega_z = circlefrac*2*math.pi / secs\n",
    "            \n",
    "            # Linear velocity to maintain circular motion\n",
    "            linear_velocity = omega_z * r\n",
    "            file.write(f\"{linear_velocity:g} 0 {omega_z:g} {secs}\\n\")\n",
    "\n",
    "\n",
    "with open(folder+\"r_sidewards.txt\", \"w\") as file:\n",
    "    for r in np.arange(0.05, 0.45, 0.1):\n",
    "        for circlefrac in np.arange(0.1, 0.9, 0.2):\n",
    "            omega_z = circlefrac*2*math.pi / secs\n",
    "            \n",
    "            # Linear velocity to maintain circular motion\n",
    "            linear_velocity = omega_z * r\n",
    "            file.write(f\"0 {linear_velocity:g} {omega_z:g} {secs}\\n\")"
   ]
  },
  {
   "cell_type": "code",
   "execution_count": 9,
   "metadata": {},
   "outputs": [],
   "source": [
    "with open(folder+\"square.txt\", \"w\") as file:\n",
    "    for secs in np.arange(1, 5, 1):\n",
    "        max_speed = 1.5 / secs # We want maximum travel of 2 meter along each direction\n",
    "        max_speed = min(max_speed, 1.0)\n",
    "        for i in np.arange(0.05, max_speed, 0.1):\n",
    "            file.write(f\"{i:g} {secs}\\n\")"
   ]
  },
  {
   "cell_type": "code",
   "execution_count": 13,
   "metadata": {},
   "outputs": [],
   "source": [
    "\n",
    "with open(folder+\"forward_circle.txt\", \"w\") as file:\n",
    "    for secs in np.arange(5, 10, 1):\n",
    "        for r in np.arange(0.5, 1, 0.1):\n",
    "            omega_z = 2*math.pi / secs\n",
    "            \n",
    "            # Linear velocity to maintain circular motion\n",
    "            linear_velocity = omega_z * r\n",
    "            file.write(f\"{linear_velocity:g} 0 {omega_z:g} {secs}\\n\")"
   ]
  },
  {
   "cell_type": "code",
   "execution_count": 14,
   "metadata": {},
   "outputs": [],
   "source": [
    "\n",
    "with open(folder+\"sideward_circle.txt\", \"w\") as file:\n",
    "    for secs in np.arange(5, 10, 1):\n",
    "        for r in np.arange(0.5, 1, 0.1):\n",
    "            omega_z = 2*math.pi / secs\n",
    "            \n",
    "            # Linear velocity to maintain circular motion\n",
    "            linear_velocity = omega_z * r\n",
    "            file.write(f\"0 {linear_velocity:g} {omega_z:g} {secs}\\n\")"
   ]
  }
 ],
 "metadata": {
  "kernelspec": {
   "display_name": "rosenv",
   "language": "python",
   "name": "python3"
  },
  "language_info": {
   "codemirror_mode": {
    "name": "ipython",
    "version": 3
   },
   "file_extension": ".py",
   "mimetype": "text/x-python",
   "name": "python",
   "nbconvert_exporter": "python",
   "pygments_lexer": "ipython3",
   "version": "3.12.4"
  }
 },
 "nbformat": 4,
 "nbformat_minor": 2
}
