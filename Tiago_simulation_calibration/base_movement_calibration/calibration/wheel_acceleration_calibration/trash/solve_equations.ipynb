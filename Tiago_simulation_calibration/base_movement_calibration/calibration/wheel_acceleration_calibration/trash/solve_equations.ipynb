{
 "cells": [
  {
   "cell_type": "code",
   "execution_count": 4,
   "metadata": {},
   "outputs": [
    {
     "data": {
      "text/plain": [
       "{C2: (-4*B*a + 3*B - 3*K*a**2 + 2*K*a + S1*a**4)/(a**4 - 2*a**3 + a**2),\n",
       " C3: (4*B*a**2 - 2*B + 3*K*a**3 - K*a - 2*S1*a**4)/(a**5 - 2*a**4 + a**3),\n",
       " C4: (-3*B*a + 2*B - 2*K*a**2 + K*a + S1*a**3)/(a**5 - 2*a**4 + a**3)}"
      ]
     },
     "execution_count": 4,
     "metadata": {},
     "output_type": "execute_result"
    }
   ],
   "source": [
    "import sympy as sp\n",
    "\n",
    "# Define variables\n",
    "C2, C3, C4 = sp.symbols('C2 C3 C4')\n",
    "a, K, B, S1 = sp.symbols('a K B S1')\n",
    "\n",
    "# Define the system of equations\n",
    "eq1 = C2 * a**2 + C3 * a**3 + C4 * a**4 - (K * a + B)\n",
    "eq2 = 2 * C2 * a + 3 * C3 * a**2 + 4 * C4 * a**3 - K\n",
    "eq3 = C2 + C3 + C4 - S1\n",
    "\n",
    "# Solve the system of equations\n",
    "solution = sp.solve([eq1, eq2, eq3], (C2, C3, C4))\n",
    "\n",
    "solution\n"
   ]
  },
  {
   "cell_type": "code",
   "execution_count": null,
   "metadata": {},
   "outputs": [],
   "source": [
    "def f1(x, a, K, B, S1):\n",
    "    x = x.view(-1)\n",
    "    a = a.view(-1)\n",
    "    K = K.view(-1)\n",
    "    B = B.view(-1)\n",
    "    S1 = S1.view(-1)\n",
    "    \n",
    "    C2 = (-4*B*a + 3*B - 3*K*a**2 + 2*K*a + S1*a**4)/(a**4 - 2*a**3 + a**2)\n",
    "    C3 = (4*B*a**2 - 2*B + 3*K*a**3 - K*a - 2*S1*a**4)/(a**5 - 2*a**4 + a**3)\n",
    "    C4 = (-3*B*a + 2*B - 2*K*a**2 + K*a + S1*a**3)/(a**5 - 2*a**4 + a**3)\n",
    "\n",
    "    return C2 * x**2 + C3 * x**3 + C4 * x**4\n"
   ]
  },
  {
   "cell_type": "code",
   "execution_count": 5,
   "metadata": {},
   "outputs": [
    {
     "data": {
      "text/plain": [
       "{C0: (8*B*b**2*c**3 - 4*B*b**2*c**2 - B*b*c**4 - 4*B*b*c**3 + 3*B*b*c**2 - B*c**5 + 2*B*c**4 - B*c**3 + 6*K*b**3*c**3 - 3*K*b**3*c**2 - 3*K*b**2*c**3 + 2*K*b**2*c**2 + L*b**5 + L*b**4*c - 2*L*b**4 - 8*L*b**3*c**2 + 4*L*b**3*c + L*b**3 + 4*L*b**2*c**2 - 3*L*b**2*c + S2*b**5*c**2 - 3*S2*b**4*c**3 + 3*S2*b**3*c**4 - S2*b**2*c**5)/(b**5 + b**4*c - 2*b**4 - 8*b**3*c**2 + 4*b**3*c + b**3 + 8*b**2*c**3 - 3*b**2*c - b*c**4 - 4*b*c**3 + 3*b*c**2 - c**5 + 2*c**4 - c**3),\n",
       " C1: (-12*B*b**2*c**2 + 8*B*b**2*c + 8*B*b*c**2 - 6*B*b*c - 9*K*b**3*c**2 + 6*K*b**3*c - K*b**2*c**3 + 6*K*b**2*c**2 - 4*K*b**2*c - K*b*c**4 + 2*K*b*c**3 - K*b*c**2 - K*c**5 + 2*K*c**4 - K*c**3 + 12*L*b**2*c**2 - 8*L*b**2*c - 8*L*b*c**2 + 6*L*b*c - 2*S2*b**5*c + 4*S2*b**4*c**2 - 4*S2*b**2*c**4 + 2*S2*b*c**5)/(b**5 + b**4*c - 2*b**4 - 8*b**3*c**2 + 4*b**3*c + b**3 + 8*b**2*c**3 - 3*b**2*c - b*c**4 - 4*b*c**3 + 3*b*c**2 - c**5 + 2*c**4 - c**3),\n",
       " C2: (-4*B*b**2 - 4*B*b*c + 3*B*b - 4*B*c**2 + 3*B*c - 3*K*b**3 - 3*K*b**2*c + 2*K*b**2 - 3*K*b*c**2 + 2*K*b*c - 3*K*c**3 + 2*K*c**2 + 4*L*b**2 + 4*L*b*c - 3*L*b + 4*L*c**2 - 3*L*c + S2*b**5 + S2*b**4*c - 8*S2*b**3*c**2 + 8*S2*b**2*c**3 - S2*b*c**4 - S2*c**5)/(b**5 + b**4*c - 2*b**4 - 8*b**3*c**2 + 4*b**3*c + b**3 + 8*b**2*c**3 - 3*b**2*c - b*c**4 - 4*b*c**3 + 3*b*c**2 - c**5 + 2*c**4 - c**3),\n",
       " C3: (4*B*b**2 + 4*B*b*c + 4*B*c**2 - 2*B + 3*K*b**3 + 3*K*b**2*c + 3*K*b*c**2 - K*b + 3*K*c**3 - K*c - 4*L*b**2 - 4*L*b*c - 4*L*c**2 + 2*L - 2*S2*b**4 + 4*S2*b**3*c - 4*S2*b*c**3 + 2*S2*c**4)/(b**5 + b**4*c - 2*b**4 - 8*b**3*c**2 + 4*b**3*c + b**3 + 8*b**2*c**3 - 3*b**2*c - b*c**4 - 4*b*c**3 + 3*b*c**2 - c**5 + 2*c**4 - c**3),\n",
       " C4: (-3*B*b - 3*B*c + 2*B - 2*K*b**2 - 2*K*b*c + K*b - 2*K*c**2 + K*c + 3*L*b + 3*L*c - 2*L + S2*b**3 - 3*S2*b**2*c + 3*S2*b*c**2 - S2*c**3)/(b**5 + b**4*c - 2*b**4 - 8*b**3*c**2 + 4*b**3*c + b**3 + 8*b**2*c**3 - 3*b**2*c - b*c**4 - 4*b*c**3 + 3*b*c**2 - c**5 + 2*c**4 - c**3)}"
      ]
     },
     "execution_count": 5,
     "metadata": {},
     "output_type": "execute_result"
    }
   ],
   "source": [
    "# Define variables for f3\n",
    "C0, C1, C2, C3, C4 = sp.symbols('C0 C1 C2 C3 C4')\n",
    "K, B, b, c, L, S2 = sp.symbols('K B b c L S2')\n",
    "\n",
    "# Define the system of equations for f3\n",
    "eq1_f3 = C0 + C1 * c + C2 * c**2 + C3 * c**3 + C4 * c**4 - L\n",
    "eq2_f3 = C1 + 2 * C2 * c + 3 * C3 * c**2 + 4 * C4 * c**3\n",
    "eq3_f3 = C0 + C1 * b + C2 * b**2 + C3 * b**3 + C4 * b**4 - (K * b + B)\n",
    "eq4_f3 = C1 + 2 * C2 * b + 3 * C3 * b**2 + 4 * C4 * b**3 - K\n",
    "eq5_f3 = C2 + C3 + C4 - S2\n",
    "\n",
    "# Solve the system for f3\n",
    "solution_f3 = sp.solve([eq1_f3, eq2_f3, eq3_f3, eq4_f3, eq5_f3], (C0, C1, C2, C3, C4))\n",
    "\n",
    "solution_f3\n"
   ]
  },
  {
   "cell_type": "code",
   "execution_count": null,
   "metadata": {},
   "outputs": [],
   "source": [
    "def f3(x, K, B, b, c, L, S2):\n",
    "    x = x.view(-1)\n",
    "    K = K.view(-1)\n",
    "    B = B.view(-1)\n",
    "    b = b.view(-1)\n",
    "    c = c.view(-1)\n",
    "    L = L.view(-1)\n",
    "    S2 = S2.view(-1)\n",
    "\n",
    "    C0 = (8*B*b**2*c**3 - 4*B*b**2*c**2 - B*b*c**4 - 4*B*b*c**3 + 3*B*b*c**2 - B*c**5 + 2*B*c**4 - B*c**3 + 6*K*b**3*c**3 - 3*K*b**3*c**2 - 3*K*b**2*c**3 + 2*K*b**2*c**2 + L*b**5 + L*b**4*c - 2*L*b**4 - 8*L*b**3*c**2 + 4*L*b**3*c + L*b**3 + 4*L*b**2*c**2 - 3*L*b**2*c + S2*b**5*c**2 - 3*S2*b**4*c**3 + 3*S2*b**3*c**4 - S2*b**2*c**5)/(b**5 + b**4*c - 2*b**4 - 8*b**3*c**2 + 4*b**3*c + b**3 + 8*b**2*c**3 - 3*b**2*c - b*c**4 - 4*b*c**3 + 3*b*c**2 - c**5 + 2*c**4 - c**3)\n",
    "    C1 = (-12*B*b**2*c**2 + 8*B*b**2*c + 8*B*b*c**2 - 6*B*b*c - 9*K*b**3*c**2 + 6*K*b**3*c - K*b**2*c**3 + 6*K*b**2*c**2 - 4*K*b**2*c - K*b*c**4 + 2*K*b*c**3 - K*b*c**2 - K*c**5 + 2*K*c**4 - K*c**3 + 12*L*b**2*c**2 - 8*L*b**2*c - 8*L*b*c**2 + 6*L*b*c - 2*S2*b**5*c + 4*S2*b**4*c**2 - 4*S2*b**2*c**4 + 2*S2*b*c**5)/(b**5 + b**4*c - 2*b**4 - 8*b**3*c**2 + 4*b**3*c + b**3 + 8*b**2*c**3 - 3*b**2*c - b*c**4 - 4*b*c**3 + 3*b*c**2 - c**5 + 2*c**4 - c**3)\n",
    "    C2 = (-4*B*b**2 - 4*B*b*c + 3*B*b - 4*B*c**2 + 3*B*c - 3*K*b**3 - 3*K*b**2*c + 2*K*b**2 - 3*K*b*c**2 + 2*K*b*c - 3*K*c**3 + 2*K*c**2 + 4*L*b**2 + 4*L*b*c - 3*L*b + 4*L*c**2 - 3*L*c + S2*b**5 + S2*b**4*c - 8*S2*b**3*c**2 + 8*S2*b**2*c**3 - S2*b*c**4 - S2*c**5)/(b**5 + b**4*c - 2*b**4 - 8*b**3*c**2 + 4*b**3*c + b**3 + 8*b**2*c**3 - 3*b**2*c - b*c**4 - 4*b*c**3 + 3*b*c**2 - c**5 + 2*c**4 - c**3)\n",
    "    C3 = (4*B*b**2 + 4*B*b*c + 4*B*c**2 - 2*B + 3*K*b**3 + 3*K*b**2*c + 3*K*b*c**2 - K*b + 3*K*c**3 - K*c - 4*L*b**2 - 4*L*b*c - 4*L*c**2 + 2*L - 2*S2*b**4 + 4*S2*b**3*c - 4*S2*b*c**3 + 2*S2*c**4)/(b**5 + b**4*c - 2*b**4 - 8*b**3*c**2 + 4*b**3*c + b**3 + 8*b**2*c**3 - 3*b**2*c - b*c**4 - 4*b*c**3 + 3*b*c**2 - c**5 + 2*c**4 - c**3)\n",
    "    C4 = (-3*B*b - 3*B*c + 2*B - 2*K*b**2 - 2*K*b*c + K*b - 2*K*c**2 + K*c + 3*L*b + 3*L*c - 2*L + S2*b**3 - 3*S2*b**2*c + 3*S2*b*c**2 - S2*c**3)/(b**5 + b**4*c - 2*b**4 - 8*b**3*c**2 + 4*b**3*c + b**3 + 8*b**2*c**3 - 3*b**2*c - b*c**4 - 4*b*c**3 + 3*b*c**2 - c**5 + 2*c**4 - c**3)\n",
    "\n",
    "\n",
    "    return C0 + C1 * x + C2 * x**2 + C3 * x**3 + C4 * x**4"
   ]
  },
  {
   "cell_type": "code",
   "execution_count": null,
   "metadata": {},
   "outputs": [],
   "source": [
    "def f2(x, K, B):\n",
    "    x = x.view(-1)\n",
    "    K = K.view(-1)\n",
    "    B = B.view(-1)\n",
    "\n",
    "    return K * x + B"
   ]
  },
  {
   "cell_type": "markdown",
   "metadata": {},
   "source": [
    "cubic polynomial instead"
   ]
  },
  {
   "cell_type": "code",
   "execution_count": 7,
   "metadata": {},
   "outputs": [
    {
     "data": {
      "text/plain": [
       "{C2: (3*B + 2*K*a)/a**2, C3: (-2*B - K*a)/a**3}"
      ]
     },
     "execution_count": 7,
     "metadata": {},
     "output_type": "execute_result"
    }
   ],
   "source": [
    "import sympy as sp\n",
    "\n",
    "# Define variables\n",
    "x, a, K, B = sp.symbols('x a K B')\n",
    "C3, C2 = sp.symbols('C3 C2')\n",
    "\n",
    "# Define f1 as a cubic polynomial\n",
    "f1 = C3 * x**3 + C2 * x**2\n",
    "\n",
    "# Derivative of f1\n",
    "f1_prime = sp.diff(f1, x)\n",
    "\n",
    "# Define the constraints\n",
    "eq1 = f1.subs(x, a) - (K * a + B)  # f1(a) = Ka + B\n",
    "eq2 = f1_prime.subs(x, a) - K       # f1'(a) = K\n",
    "\n",
    "# Solve the system of equations\n",
    "solution = sp.solve([eq1, eq2], (C3, C2))\n",
    "\n",
    "solution\n"
   ]
  },
  {
   "cell_type": "code",
   "execution_count": null,
   "metadata": {},
   "outputs": [],
   "source": [
    "def f1(x, a, K, B):\n",
    "    x = x.view(-1)\n",
    "    a = a.view(-1)\n",
    "    K = K.view(-1)\n",
    "    B = B.view(-1)\n",
    "    \n",
    "    C2 = (3*B + 2*K*a)/a**2\n",
    "    C3 = (-2*B - K*a)/a**3\n",
    "\n",
    "    return C3 * x**3 + C2 * x**2\n"
   ]
  },
  {
   "cell_type": "code",
   "execution_count": 8,
   "metadata": {},
   "outputs": [
    {
     "data": {
      "text/plain": [
       "{D0: (3*B*b*c**2 - B*c**3 + 2*K*b**2*c**2 + L*b**3 - 3*L*b**2*c)/(b**3 - 3*b**2*c + 3*b*c**2 - c**3),\n",
       " D1: (-6*B*b*c - 4*K*b**2*c - K*b*c**2 - K*c**3 + 6*L*b*c)/(b**3 - 3*b**2*c + 3*b*c**2 - c**3),\n",
       " D2: (3*B*b + 3*B*c + 2*K*b**2 + 2*K*b*c + 2*K*c**2 - 3*L*b - 3*L*c)/(b**3 - 3*b**2*c + 3*b*c**2 - c**3),\n",
       " D3: (-2*B - K*b - K*c + 2*L)/(b**3 - 3*b**2*c + 3*b*c**2 - c**3)}"
      ]
     },
     "execution_count": 8,
     "metadata": {},
     "output_type": "execute_result"
    }
   ],
   "source": [
    "# Define variables for f3\n",
    "b, c, L = sp.symbols('b c L')\n",
    "D3, D2, D1, D0 = sp.symbols('D3 D2 D1 D0')\n",
    "\n",
    "# Define f3 as a cubic polynomial\n",
    "f3 = D3 * x**3 + D2 * x**2 + D1 * x + D0\n",
    "\n",
    "# Derivative of f3\n",
    "f3_prime = sp.diff(f3, x)\n",
    "\n",
    "# Define the constraints for f3\n",
    "eq1_f3 = f3.subs(x, c) - L        # f3(c) = L\n",
    "eq2_f3 = f3_prime.subs(x, c)      # f3'(c) = 0\n",
    "eq3_f3 = f3.subs(x, b) - (K * b + B)  # f3(b) = Kb + B\n",
    "eq4_f3 = f3_prime.subs(x, b) - K   # f3'(b) = K\n",
    "\n",
    "# Solve the system of equations for D3, D2, D1, D0\n",
    "solution_f3 = sp.solve([eq1_f3, eq2_f3, eq3_f3, eq4_f3], (D3, D2, D1, D0))\n",
    "\n",
    "solution_f3\n"
   ]
  },
  {
   "cell_type": "code",
   "execution_count": null,
   "metadata": {},
   "outputs": [],
   "source": [
    "def f3(x, a, K, B):\n",
    "    x = x.view(-1)\n",
    "    a = a.view(-1)\n",
    "    K = K.view(-1)\n",
    "    B = B.view(-1)\n",
    "    \n",
    "    D0 = (3*B*b*c**2 - B*c**3 + 2*K*b**2*c**2 + L*b**3 - 3*L*b**2*c)/(b**3 - 3*b**2*c + 3*b*c**2 - c**3)\n",
    "    D1 = (-6*B*b*c - 4*K*b**2*c - K*b*c**2 - K*c**3 + 6*L*b*c)/(b**3 - 3*b**2*c + 3*b*c**2 - c**3)\n",
    "    D2 = (3*B*b + 3*B*c + 2*K*b**2 + 2*K*b*c + 2*K*c**2 - 3*L*b - 3*L*c)/(b**3 - 3*b**2*c + 3*b*c**2 - c**3)\n",
    "    D3 = (-2*B - K*b - K*c + 2*L)/(b**3 - 3*b**2*c + 3*b*c**2 - c**3)\n",
    "\n",
    "    return D3 * x**3 + D2 * x**2 + D1 * x + D0\n"
   ]
  },
  {
   "cell_type": "code",
   "execution_count": 9,
   "metadata": {},
   "outputs": [
    {
     "data": {
      "text/plain": [
       "(2*(a*(3*B + 2*K*a) - 3*x*(2*B + K*a))/a**3 >= 0,\n",
       " 2*(3*B*b + 3*B*c + 2*K*b**2 + 2*K*b*c + 2*K*c**2 - 3*L*b - 3*L*c - 3*x*(2*B + K*b + K*c - 2*L))/(b**3 - 3*b**2*c + 3*b*c**2 - c**3) <= 0)"
      ]
     },
     "execution_count": 9,
     "metadata": {},
     "output_type": "execute_result"
    }
   ],
   "source": [
    "# Second derivatives for f1 and f3\n",
    "f1_double_prime = sp.diff(f1_prime, x)\n",
    "f3_double_prime = sp.diff(f3_prime, x)\n",
    "\n",
    "# Substitute C3 and C2 into f1''(x) to check convexity for f1\n",
    "f1_double_prime_sub = f1_double_prime.subs([(C3, solution[C3]), (C2, solution[C2])])\n",
    "\n",
    "# Substitute D3 and D2 into f3''(x) to check concavity for f3\n",
    "f3_double_prime_sub = f3_double_prime.subs([(D3, solution_f3[D3]), (D2, solution_f3[D2])])\n",
    "\n",
    "# Inequalities for convexity of f1 and concavity of f3\n",
    "f1_convex_condition = sp.simplify(f1_double_prime_sub >= 0)\n",
    "f3_concave_condition = sp.simplify(f3_double_prime_sub <= 0)\n",
    "\n",
    "f1_convex_condition, f3_concave_condition\n"
   ]
  }
 ],
 "metadata": {
  "kernelspec": {
   "display_name": "open3d_env",
   "language": "python",
   "name": "python3"
  },
  "language_info": {
   "codemirror_mode": {
    "name": "ipython",
    "version": 3
   },
   "file_extension": ".py",
   "mimetype": "text/x-python",
   "name": "python",
   "nbconvert_exporter": "python",
   "pygments_lexer": "ipython3",
   "version": "3.8.19"
  }
 },
 "nbformat": 4,
 "nbformat_minor": 2
}
